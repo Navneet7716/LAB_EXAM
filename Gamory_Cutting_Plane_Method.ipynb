{
 "cells": [
  {
   "cell_type": "code",
   "execution_count": 2,
   "metadata": {},
   "outputs": [
    {
     "name": "stdout",
     "output_type": "stream",
     "text": [
      "Collecting mip\n",
      "  Downloading mip-1.13.0-py3-none-any.whl (48.0 MB)\n",
      "Requirement already satisfied: cffi in c:\\users\\hp\\anaconda3\\lib\\site-packages (from mip) (1.14.3)\n",
      "Requirement already satisfied: pycparser in c:\\users\\hp\\anaconda3\\lib\\site-packages (from cffi->mip) (2.20)\n",
      "Installing collected packages: mip\n",
      "Successfully installed mip-1.13.0\n",
      "Note: you may need to restart the kernel to use updated packages.\n"
     ]
    }
   ],
   "source": [
    "pip install mip"
   ]
  },
  {
   "cell_type": "code",
   "execution_count": 3,
   "metadata": {},
   "outputs": [
    {
     "name": "stdout",
     "output_type": "stream",
     "text": [
      "status: OptimizationStatus.OPTIMAL objective value : 237.0\n",
      "status: OptimizationStatus.OPTIMAL objective value : 261.0\n",
      "status: OptimizationStatus.OPTIMAL objective value : 261.0\n",
      "status: OptimizationStatus.OPTIMAL objective value : 262.0\n"
     ]
    }
   ],
   "source": [
    "from itertools import product\n",
    "from networkx import minimum_cut, DiGraph\n",
    "from mip import Model, xsum, BINARY, OptimizationStatus, CutType\n",
    "\n",
    "N = [\"a\", \"b\", \"c\", \"d\", \"e\", \"f\", \"g\"]\n",
    "A = { (\"a\", \"d\"): 56, (\"d\", \"a\"): 67, (\"a\", \"b\"): 49, (\"b\", \"a\"): 50,\n",
    "      (\"f\", \"c\"): 35, (\"g\", \"b\"): 35, (\"g\", \"b\"): 35, (\"b\", \"g\"): 25,\n",
    "      (\"a\", \"c\"): 80, (\"c\", \"a\"): 99, (\"e\", \"f\"): 20, (\"f\", \"e\"): 20,\n",
    "      (\"g\", \"e\"): 38, (\"e\", \"g\"): 49, (\"g\", \"f\"): 37, (\"f\", \"g\"): 32,\n",
    "      (\"b\", \"e\"): 21, (\"e\", \"b\"): 30, (\"a\", \"g\"): 47, (\"g\", \"a\"): 68,\n",
    "      (\"d\", \"c\"): 37, (\"c\", \"d\"): 52, (\"d\", \"e\"): 15, (\"e\", \"d\"): 20,\n",
    "      (\"d\", \"b\"): 39, (\"b\", \"d\"): 37, (\"c\", \"f\"): 35, }\n",
    "Aout = {n: [a for a in A if a[0] == n] for n in N}\n",
    "Ain = {n: [a for a in A if a[1] == n] for n in N}\n",
    "\n",
    "m = Model()\n",
    "x = {a: m.add_var(name=\"x({},{})\".format(a[0], a[1]), var_type=BINARY) for a in A}\n",
    "\n",
    "m.objective = xsum(c * x[a] for a, c in A.items())\n",
    "\n",
    "for n in N:\n",
    "    m += xsum(x[a] for a in Aout[n]) == 1, \"out({})\".format(n)\n",
    "    m += xsum(x[a] for a in Ain[n]) == 1, \"in({})\".format(n)\n",
    "\n",
    "newConstraints = True\n",
    "\n",
    "while newConstraints:\n",
    "    m.optimize(relax=True)\n",
    "    print(\"status: {} objective value : {}\".format(m.status, m.objective_value))\n",
    "\n",
    "    G = DiGraph()\n",
    "    for a in A:\n",
    "        G.add_edge(a[0], a[1], capacity=x[a].x)\n",
    "\n",
    "    newConstraints = False\n",
    "    for (n1, n2) in [(i, j) for (i, j) in product(N, N) if i != j]:\n",
    "        cut_value, (S, NS) = minimum_cut(G, n1, n2)\n",
    "        if cut_value <= 0.99:\n",
    "            m += (xsum(x[a] for a in A if (a[0] in S and a[1] in S)) <= len(S) - 1)\n",
    "            newConstraints = True\n",
    "    if not newConstraints and m.solver_name.lower() == \"cbc\":\n",
    "        cp = m.generate_cuts([CutType.GOMORY, CutType.MIR, \n",
    "                              CutType.ZERO_HALF, CutType.KNAPSACK_COVER])\n",
    "        if cp.cuts:\n",
    "            m += cp\n",
    "            newConstraints = True"
   ]
  },
  {
   "cell_type": "code",
   "execution_count": null,
   "metadata": {},
   "outputs": [],
   "source": []
  }
 ],
 "metadata": {
  "kernelspec": {
   "display_name": "Python 3",
   "language": "python",
   "name": "python3"
  },
  "language_info": {
   "codemirror_mode": {
    "name": "ipython",
    "version": 3
   },
   "file_extension": ".py",
   "mimetype": "text/x-python",
   "name": "python",
   "nbconvert_exporter": "python",
   "pygments_lexer": "ipython3",
   "version": "3.8.5"
  }
 },
 "nbformat": 4,
 "nbformat_minor": 4
}
