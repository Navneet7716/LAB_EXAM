{
 "cells": [
  {
   "cell_type": "code",
   "execution_count": 3,
   "metadata": {},
   "outputs": [],
   "source": [
    "def minimum(a,n):\n",
    "    minpos = a.index(min(i for i in a if i>0))\n",
    "    return minpos\n",
    "def Row_Minima(supply,demand,costs):\n",
    "    r=len(costs)\n",
    "    c=len(costs[0])\n",
    "    i=0\n",
    "    j=0\n",
    "    bfs=[]\n",
    "    total=0\n",
    "    while i<r:\n",
    "        j=0\n",
    "        while j<c and supply[i]!=0:\n",
    "            m=minimum(costs[i],len(costs[i]))\n",
    "            if(supply[i]>=demand[m] and demand[m]!=0):\n",
    "                total = total+demand[m]*costs[i][m]\n",
    "                bfs.append(((i,m),demand[m]))\n",
    "                supply[i]=supply[i]-demand[m]\n",
    "                demand[m]=0\n",
    "                for k in range(i,r):\n",
    "                    costs[k][m]=0\n",
    "            elif(supply[i]<=demand[m]and demand[m]!=0):\n",
    "                total = total+supply[i]*costs[i][m]\n",
    "                bfs.append(((i,m),supply[i]))\n",
    "                demand[m]=demand[m]-supply[i]\n",
    "                supply[i]=0\n",
    "                costs[i][m]=0\n",
    "            j=j+1\n",
    "        i=i+1\n",
    "    print(\"Basic Feasible solution is \",bfs)\n",
    "    print(\"Total cost=\",total)\n",
    "    return\n",
    "\n",
    "\n",
    "\n"
   ]
  },
  {
   "cell_type": "code",
   "execution_count": 4,
   "metadata": {},
   "outputs": [
    {
     "name": "stdout",
     "output_type": "stream",
     "text": [
      "Basic Feasible solution is  [((0, 2), 150), ((0, 0), 50), ((1, 1), 120), ((1, 0), 40), ((2, 0), 90)]\n",
      "Total cost= 6460\n"
     ]
    }
   ],
   "source": [
    "supply=[200,160,90]\n",
    "demand=[180,120,150]\n",
    "costs=[[16,20,12],[14,8,18],[26,24,16]]\n",
    "Row_Minima(supply,demand,costs)"
   ]
  },
  {
   "cell_type": "code",
   "execution_count": null,
   "metadata": {},
   "outputs": [],
   "source": []
  }
 ],
 "metadata": {
  "kernelspec": {
   "display_name": "Python 3",
   "language": "python",
   "name": "python3"
  },
  "language_info": {
   "codemirror_mode": {
    "name": "ipython",
    "version": 3
   },
   "file_extension": ".py",
   "mimetype": "text/x-python",
   "name": "python",
   "nbconvert_exporter": "python",
   "pygments_lexer": "ipython3",
   "version": "3.8.5"
  }
 },
 "nbformat": 4,
 "nbformat_minor": 2
}
