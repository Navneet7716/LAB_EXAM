{
 "cells": [
  {
   "cell_type": "code",
   "execution_count": 59,
   "metadata": {},
   "outputs": [],
   "source": [
    "import numpy as np"
   ]
  },
  {
   "cell_type": "code",
   "execution_count": 60,
   "metadata": {},
   "outputs": [],
   "source": [
    "def get_balanced_tp(supply,demand,penalties=None):\n",
    "    total_supply = sum(supply)\n",
    "    total_demand = sum(demand)\n",
    "    \n",
    "    if total_supply<total_demand:\n",
    "        if penalties is None:\n",
    "            raise Exception('Supply less than demand penalities Required')\n",
    "        new_supply = supply + [total_demand - total_supply]\n",
    "        new_costs = costs + [penalties]\n",
    "        return new_supply,demand,new_costs\n",
    "    \n",
    "    if total_supply>total_demand:\n",
    "        new_demand = demand + [total_supply - total_demand]\n",
    "        new_costs = costs + [[0 for _ in demand]]\n",
    "        return supply,new_demand,new_costs\n",
    "    return supply,demand,costs\n",
    "\n",
    "def north_west_corner(supply , demand):\n",
    "    supply_copy = supply.copy()\n",
    "    demand_copy = demand.copy()\n",
    "    i = 0\n",
    "    j = 0\n",
    "    bfs = []\n",
    "    total =0\n",
    "    while len(bfs) < len(supply) + len(demand)-1 :\n",
    "        s = supply_copy[i]\n",
    "        d = demand_copy[j]\n",
    "        v = min(s,d)\n",
    "        supply_copy[i] -= v\n",
    "        demand_copy[j] -= v\n",
    "        bfs.append(((i,j),v))\n",
    "        if supply_copy[i] == 0 and i < len(supply) - 1:\n",
    "            i += 1\n",
    "        elif demand_copy[j] == 0 and j<len(demand) -1:\n",
    "            j += 1\n",
    "    return bfs\n",
    "\n",
    "\n",
    "\n",
    "def get_us_and_vs(bfs,costs):\n",
    "    us=[None]*len(costs)\n",
    "    vs = [None] * len(costs[0])\n",
    "    us[0] = 0\n",
    "    bfs_copy = bfs.copy()\n",
    "    \n",
    "    while len(bfs_copy)>0:\n",
    "        for index,bv in enumerate(bfs_copy):\n",
    "            i,j = bv[0]\n",
    "            if us[i] is None and vs[j] is None: continue\n",
    "                \n",
    "            cost = costs[i][j]\n",
    "            if us[i] is None:\n",
    "                us[i] = cost -vs[j]\n",
    "            else:\n",
    "                vs[j] = cost - us[i]\n",
    "            bfs_copy.pop(index)\n",
    "            break\n",
    "    return us,vs"
   ]
  },
  {
   "cell_type": "code",
   "execution_count": 61,
   "metadata": {},
   "outputs": [],
   "source": [
    "def get_ws(bfs,costs,us,vs):\n",
    "    ws = []\n",
    "    for i,row in enumerate(costs):\n",
    "        for j,cost in enumerate(row):\n",
    "            non_basic = all([p[0] != i or p[1]!=j for p,v in bfs])\n",
    "            if non_basic:\n",
    "                ws.append(((i,j) , us[i]+vs[j]-cost))\n",
    "                \n",
    "    return ws"
   ]
  },
  {
   "cell_type": "code",
   "execution_count": 62,
   "metadata": {},
   "outputs": [],
   "source": [
    "def can_be_improved(ws):\n",
    "    for p,v in ws:\n",
    "        if v>0:return True\n",
    "    return False"
   ]
  },
  {
   "cell_type": "code",
   "execution_count": 63,
   "metadata": {},
   "outputs": [],
   "source": [
    "def get_entering_variable_position(ws):\n",
    "    ws_copy = ws.copy()\n",
    "    ws_copy.sort(key=lambda w:w[1])\n",
    "    return ws_copy[-1][0]"
   ]
  },
  {
   "cell_type": "code",
   "execution_count": 64,
   "metadata": {},
   "outputs": [],
   "source": [
    "def get_possible_next_nodes(loop,not_visited):\n",
    "    last_node = loop[-1]\n",
    "    nodes_in_row = [n for n in not_visited if n[0] == last_node[0]]\n",
    "    nodes_in_column = [n for n in not_visited if n[1] == last_node[1]]\n",
    "    if len(loop)<2:\n",
    "        return nodes_in_row + nodes_in_column\n",
    "    else:\n",
    "        prev_node = loop[-2]\n",
    "        row_move = prev_node[0] == last_node[0]\n",
    "        if row_move: return nodes_in_column\n",
    "        return nodes_in_row"
   ]
  },
  {
   "cell_type": "code",
   "execution_count": 65,
   "metadata": {},
   "outputs": [],
   "source": [
    "def get_loop(by_positions, ev_position):\n",
    "    def inner(loop):\n",
    "        if len(loop)>3:\n",
    "            can_be_closed = len(get_possible_next_nodes(loop,[ev_position])) == 1\n",
    "            if can_be_closed: return loop\n",
    "        \n",
    "        not_visited = list(set(by_positions)-set(loop))\n",
    "        possible_next_nodes = get_possible_next_nodes(loop,not_visited)\n",
    "        for next_node in possible_next_nodes:\n",
    "            new_loop = inner(loop+ [next_node])\n",
    "            if new_loop: return new_loop\n",
    "    return inner([ev_position])"
   ]
  },
  {
   "cell_type": "code",
   "execution_count": 66,
   "metadata": {},
   "outputs": [],
   "source": [
    "def loop_pivoting(bfs,loop):\n",
    "    even_cells= loop[0::2]\n",
    "    odd_cells = loop[1::2]\n",
    "    get_bv = lambda pos: next(v for p,v in bfs if p == pos)\n",
    "    leaving_position = sorted(odd_cells,key=get_bv)[0]\n",
    "    leaving_value = get_bv(leaving_position)\n",
    "    \n",
    "    \n",
    "    new_bfs = []\n",
    "    for p,v in [bv for bv in bfs if bv[0] != leaving_position] + [(loop[0],0)]:\n",
    "        if p in even_cells:\n",
    "            v+=leaving_value\n",
    "        elif p in odd_cells:\n",
    "            v -= leaving_value\n",
    "        new_bfs.append((p,v))\n",
    "    return new_bfs"
   ]
  },
  {
   "cell_type": "code",
   "execution_count": 67,
   "metadata": {},
   "outputs": [],
   "source": [
    "def modi_method(supply,demand,costs,penalties=None):\n",
    "    balanced_supply,balanced_demand,balanced_costs = get_balanced_tp(\n",
    "    supply,demand,costs)\n",
    "    def inner(bfs):\n",
    "        us,vs = get_us_and_vs(bfs,balanced_costs)\n",
    "        ws = get_ws(bfs,balanced_costs,us,vs)\n",
    "        if can_be_improved(ws):\n",
    "            ev_position= get_entering_variable_position(ws)\n",
    "            loop = get_loop([p for p,v in bfs],ev_position)\n",
    "            return inner(loop_pivoting(bfs,loop))\n",
    "        return bfs\n",
    "    basic_variables = inner(north_west_corner(balanced_supply,balanced_demand))\n",
    "    solution = np.zeros((len(costs) , len(costs[0])))\n",
    "    for(i,j),v in basic_variables:\n",
    "        solution[i][j] = v\n",
    "        \n",
    "        \n",
    "    return solution\n",
    "        \n",
    "    "
   ]
  },
  {
   "cell_type": "code",
   "execution_count": 68,
   "metadata": {},
   "outputs": [],
   "source": [
    "def get_total_cost(costs , solution):\n",
    "    total_cost = 0\n",
    "    for i,row in enumerate(costs):\n",
    "        for j,cost in enumerate(row):\n",
    "            total_cost += cost + solution[i][j]\n",
    "    return total_cost"
   ]
  },
  {
   "cell_type": "code",
   "execution_count": 69,
   "metadata": {},
   "outputs": [
    {
     "name": "stdout",
     "output_type": "stream",
     "text": [
      "[[  0. 250.   0.   0.]\n",
      " [200.   0. 150.   0.]\n",
      " [  0.  50. 200. 150.]]\n",
      "TOtal_cost:  1053.0\n"
     ]
    }
   ],
   "source": [
    "costs = [\n",
    "    [3,1,7,4],\n",
    "    [2,6,5,9],\n",
    "    [8,3,3,2]\n",
    "]\n",
    "\n",
    "supply = [250,350,400]\n",
    "demand = [200,300,350,150]\n",
    "solution = modi_method(supply,demand,costs)\n",
    "print(solution)\n",
    "\n",
    "print('TOtal_cost: ' , get_total_cost(costs , solution))\n"
   ]
  },
  {
   "cell_type": "code",
   "execution_count": null,
   "metadata": {},
   "outputs": [],
   "source": []
  }
 ],
 "metadata": {
  "kernelspec": {
   "display_name": "Python 3",
   "language": "python",
   "name": "python3"
  },
  "language_info": {
   "codemirror_mode": {
    "name": "ipython",
    "version": 3
   },
   "file_extension": ".py",
   "mimetype": "text/x-python",
   "name": "python",
   "nbconvert_exporter": "python",
   "pygments_lexer": "ipython3",
   "version": "3.8.5"
  }
 },
 "nbformat": 4,
 "nbformat_minor": 4
}
